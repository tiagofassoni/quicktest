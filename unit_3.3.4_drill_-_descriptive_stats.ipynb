{
 "cells": [
  {
   "cell_type": "code",
   "execution_count": 14,
   "metadata": {},
   "outputs": [
    {
     "data": {
      "image/png": "[encoded data removed]",
      "text/plain": [
       "<matplotlib.figure.Figure at 0x10ebf5198>"
      ]
     },
     "metadata": {},
     "output_type": "display_data"
    }
   ],
   "source": [
    "#Poisson\n",
    "import numpy as np\n",
    "import pandas as pd\n",
    "import matplotlib.pyplot as plt\n",
    "%matplotlib inline\n",
    "\n",
    "poisson = np.random.poisson([5], 100)\n",
    "plt.hist(poisson)\n",
    "# Add a vertical line at the mean.\n",
    "plt.axvline(poisson.mean(), color='r', linestyle='solid', linewidth=2)\n",
    "\n",
    "# Add a vertical line at one standard deviation above the mean.\n",
    "\n",
    "plt.axvline(poisson.mean() + poisson.std(), color='r', linestyle='dashed', linewidth=1)\n",
    "\n",
    "# Add a vertical line at one standard deviation below the mean.\n",
    "plt.axvline(poisson.mean() - poisson.std(), color='r', linestyle='dashed', linewidth=1) \n",
    "\n",
    "plt.show()"
   ]
  },
  {
   "cell_type": "code",
   "execution_count": 15,
   "metadata": {
    "collapsed": true
   },
   "outputs": [],
   "source": [
    "#the mean and st dev are helpful indicatos to show where the data is skewed--non-normal distributions"
   ]
  },
  {
   "cell_type": "code",
   "execution_count": 34,
   "metadata": {},
   "outputs": [
    {
     "data": {
      "image/png": "[encoded data removed]",
      "text/plain": [
       "<matplotlib.figure.Figure at 0x10f591588>"
      ]
     },
     "metadata": {},
     "output_type": "display_data"
    }
   ],
   "source": [
    "#Bernoulli\n",
    "import numpy as mp\n",
    "import pandas as pd\n",
    "import matplotlib.pyplot as plt\n",
    "%matplotlib inline\n",
    "\n",
    "plt.axvline(bern.mean(), color='r', linestyle='solid', linewidth=2)\n",
    "plt.axvline(bern.mean() + bern.std(), color='r', linestyle='dashed', linewidth=1)\n",
    "plt.axvline(bern.mean() - bern.std(), color='r', linestyle='dashed', linewidth=1)\n",
    "\n",
    "bern = np.random.binomial(1, .5, 100)\n",
    "plt.hist(bern)\n",
    "plt.show()"
   ]
  },
  {
   "cell_type": "code",
   "execution_count": 24,
   "metadata": {
    "collapsed": true
   },
   "outputs": [],
   "source": [
    "#in this case, the data is so hevaily split the mean and st. dev aren't that useful other than knowing where"
   ]
  },
  {
   "cell_type": "code",
   "execution_count": 25,
   "metadata": {
    "collapsed": true
   },
   "outputs": [],
   "source": [
    "#there data slightly skews harder to one side."
   ]
  },
  {
   "cell_type": "code",
   "execution_count": 35,
   "metadata": {},
   "outputs": [
    {
     "data": {
      "image/png": "[encoded data removed]",
      "text/plain": [
       "<matplotlib.figure.Figure at 0x10f410e80>"
      ]
     },
     "metadata": {},
     "output_type": "display_data"
    }
   ],
   "source": [
    "#Binomial\n",
    "import numpy as mp\n",
    "import pandas as pd\n",
    "import matplotlib.pyplot as plt\n",
    "%matplotlib inline\n",
    "\n",
    "plt.axvline(bern.mean(), color='r', linestyle='solid', linewidth=2)\n",
    "plt.axvline(bern.mean() + bern.std(), color='r', linestyle='dashed', linewidth=1)\n",
    "plt.axvline(bern.mean() - bern.std(), color='r', linestyle='dashed', linewidth=1)\n",
    "\n",
    "binomial = np.random.binomial(12, .9, 100)\n",
    "\n",
    "# Plot a histogram.\n",
    "plt.hist(binomial)\n",
    "\n",
    "# Print the histogram.\n",
    "plt.show()\n"
   ]
  },
  {
   "cell_type": "code",
   "execution_count": 37,
   "metadata": {},
   "outputs": [
    {
     "data": {
      "image/png": "[encoded data removed]",
      "text/plain": [
       "<matplotlib.figure.Figure at 0x10f51f7f0>"
      ]
     },
     "metadata": {},
     "output_type": "display_data"
    }
   ],
   "source": [
    "#Gamma\n",
    "import numpy as mp\n",
    "import pandas as pd\n",
    "import matplotlib.pyplot as plt\n",
    "%matplotlib inline\n",
    "\n",
    "plt.axvline(gamma.mean(), color='r', linestyle='solid', linewidth=2)\n",
    "plt.axvline(gamma.mean() + gamma.std(), color='r', linestyle='dashed', linewidth=1)\n",
    "plt.axvline(gamma.mean() - gamma.std(), color='r', linestyle='dashed', linewidth=1)\n",
    "\n",
    "gamma = np.random.gamma(5,1, 100)\n",
    "plt.hist(gamma)\n",
    "plt.show()"
   ]
  },
  {
   "cell_type": "code",
   "execution_count": 38,
   "metadata": {
    "collapsed": true
   },
   "outputs": [],
   "source": [
    "#yes, the mean and st dev shows where the data clusters"
   ]
  },
  {
   "cell_type": "code",
   "execution_count": null,
   "metadata": {
    "collapsed": true
   },
   "outputs": [],
   "source": [
    "#additionally\n"
   ]
  }
 ],
 "metadata": {
  "kernelspec": {
   "display_name": "Python 3",
   "language": "python",
   "name": "python3"
  },
  "language_info": {
   "codemirror_mode": {
    "name": "ipython",
    "version": 3
   },
   "file_extension": ".py",
   "mimetype": "text/x-python",
   "name": "python",
   "nbconvert_exporter": "python",
   "pygments_lexer": "ipython3",
   "version": "3.7.1"
  }
 },
 "nbformat": 4,
 "nbformat_minor": 2
}
